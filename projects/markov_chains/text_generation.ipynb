{
 "cells": [
  {
   "cell_type": "markdown",
   "metadata": {},
   "source": [
    "Text Generation with Markov Chains in Python\n",
    "============================================"
   ]
  },
  {
   "cell_type": "code",
   "execution_count": 1,
   "metadata": {},
   "outputs": [
    {
     "name": "stdout",
     "output_type": "stream",
     "text": [
      "THE GOLDEN BIRD\n",
      "\n",
      "A certain king had a beautiful garden, and in the garden stood a tree\n",
      "which bore golden apples. These apples were always counted, and about\n",
      "the time when they began to grow ripe it was found that every night one\n",
      "of them was gone. The king became very angry at this, and ordered the\n",
      "gardener to keep watch all night under the tree. The gardener set his\n",
      "eldest son to watch; but about twelve o’clock he fell asleep, and in\n",
      "the morning another of the apples was missing. Then the second\n"
     ]
    }
   ],
   "source": [
    "files = [\"text/grimm_tales.txt\"]\n",
    "\n",
    "text = \"\"\n",
    "for f in files:\n",
    "    with open(f, \"r\") as f:\n",
    "        text += f.read()\n",
    "\n",
    "print(text[:500])"
   ]
  },
  {
   "cell_type": "markdown",
   "metadata": {},
   "source": [
    "Weather as a Markov Chain\n",
    "-------------------------\n",
    "\n",
    "![alt text](images/markov_weather.png \"Weather\")\n",
    "\n",
    "Matrix representation (rows are current state, columns are next state):\n",
    "\n",
    "| | Sunny | Cloudy | Rainy |\n",
    "| --- | --- | --- | --- |\n",
    "| **Sunny** | 0.6 | 0.1 | 0.3 |\n",
    "| **Cloudy** | 0.3 | 0.3 | 0.4 |\n",
    "| **Rainy** | 0.3 | 0.2 | 0.5 |\n"
   ]
  },
  {
   "cell_type": "markdown",
   "metadata": {},
   "source": [
    "Text as a Markov Chain\n",
    "----------------------\n",
    "\n",
    "**The cat ran over the dog.**\n",
    "\n",
    "![alt text](images/markov_text1.png \"Text\")\n",
    "\n",
    "Matrix representation (rows are current state, columns are next state):\n",
    "\n",
    "| | the | cat | ran | over | dog | . |\n",
    "| --- | --- | --- | --- | --- | --- | --- |\n",
    "| **the** | 0 | 0.5 | 0 | 0 | 0.5 | 0 |\n",
    "| **cat** | 0 | 0 | 1 | 0 | 0 | 0 |\n",
    "| **ran** | 0 | 0 | 0 | 1 | 0 | 0 |\n",
    "| **over** | 1 | 0 | 0 | 0 | 0 | 0 |\n",
    "| **dog** | 0 | 0 | 0 | 0 | 0 | 1 |\n",
    "| **.** | 0 | 0 | 0 | 0 | 0 | 1 |\n",
    "\n"
   ]
  },
  {
   "cell_type": "markdown",
   "metadata": {},
   "source": [
    "Define states as the distinct word tokens"
   ]
  },
  {
   "cell_type": "code",
   "execution_count": 10,
   "metadata": {},
   "outputs": [],
   "source": [
    "import re\n",
    "\n",
    "text = re.sub(\"[^A-z,.!?'\\n ]+\", \"\", text)\n",
    "text = re.sub(\"([.,!?])\", r\" \\1 \", text)\n",
    "\n",
    "tokens = text.lower().split()\n",
    "distinct_states = list(set(tokens))"
   ]
  },
  {
   "cell_type": "markdown",
   "metadata": {},
   "source": [
    "Define transition matrix"
   ]
  },
  {
   "cell_type": "code",
   "execution_count": 11,
   "metadata": {},
   "outputs": [],
   "source": [
    "from scipy.sparse import csr_matrix\n",
    "\n",
    "m = csr_matrix((len(distinct_states), len(distinct_states)), dtype=int)\n",
    "\n",
    "state_index = dict([(state, idx) for idx, state in enumerate(distinct_states)])"
   ]
  },
  {
   "cell_type": "markdown",
   "metadata": {},
   "source": [
    "Count transitions and fill in transition matrix"
   ]
  },
  {
   "cell_type": "code",
   "execution_count": 12,
   "metadata": {},
   "outputs": [
    {
     "name": "stderr",
     "output_type": "stream",
     "text": [
      "/home/rhyme/.local/lib/python3.6/site-packages/scipy/sparse/_index.py:84: SparseEfficiencyWarning: Changing the sparsity structure of a csr_matrix is expensive. lil_matrix is more efficient.\n",
      "  self._set_intXint(row, col, x.flat[0])\n"
     ]
    }
   ],
   "source": [
    "for i in range(len(tokens) - 1):\n",
    "    row = state_index[tokens[i]]\n",
    "    col = state_index[tokens[i + 1]]\n",
    "    m[row, col] += 1"
   ]
  },
  {
   "cell_type": "markdown",
   "metadata": {},
   "source": [
    "Generate new text"
   ]
  },
  {
   "cell_type": "code",
   "execution_count": 13,
   "metadata": {},
   "outputs": [
    {
     "name": "stdout",
     "output_type": "stream",
     "text": [
      "Dressesof the next morning but what do such thing.\n",
      "\n",
      "But his tail.\n",
      "\n",
      "About.\n",
      "\n",
      "\n"
     ]
    }
   ],
   "source": [
    "import numpy as np\n",
    "\n",
    "start_state_index = np.random.randint(len(distinct_states))\n",
    "state = distinct_states[start_state_index]\n",
    "\n",
    "num_sentences = 0\n",
    "output = state.capitalize()\n",
    "capitalize = False\n",
    "\n",
    "while num_sentences < 3:\n",
    "    row = m[state_index[state], :]\n",
    "    probabilities = row / row.sum()\n",
    "    probabilities = probabilities.toarray()[0]\n",
    "\n",
    "    next_state_index = np.random.choice(len(distinct_states), 1, p=probabilities)\n",
    "    next_state = distinct_states[next_state_index[0]]\n",
    "\n",
    "    if next_state in (\".\", \"!\", \"?\"):\n",
    "        output += next_state + \"\\n\\n\"\n",
    "        capitalize = True\n",
    "        num_sentences += 1\n",
    "    elif next_state == \",\":\n",
    "        output += next_state\n",
    "    else:\n",
    "        if capitalize:\n",
    "            output += next_state.capitalize()\n",
    "            capitalize = False\n",
    "        else:\n",
    "            output += \" \" + next_state\n",
    "\n",
    "    state = next_state\n",
    "\n",
    "print(output)"
   ]
  },
  {
   "cell_type": "markdown",
   "metadata": {},
   "source": [
    "k-Word Markov Chain\n",
    "-------------------\n",
    "\n",
    "**The cat ran over the dog.**\n",
    "\n",
    "![alt text](images/markov_text2.png \"Text\")\n",
    "\n",
    "Matrix representation (rows are current state, columns are next state):\n",
    "\n",
    "| | the cat | cat ran | ran over | over the | the dog | dog. |\n",
    "| --- | --- | --- | --- | --- | --- | --- |\n",
    "| **the cat**  | 0 | 1 | 0 | 0 | 0 | 0 |\n",
    "| **cat ran**  | 0 | 0 | 1 | 0 | 0 | 0 |\n",
    "| **ran over** | 0 | 0 | 0 | 1 | 0 | 0 |\n",
    "| **over the** | 0 | 0 | 0 | 0 | 1 | 0 |\n",
    "| **the dog**  | 0 | 0 | 0 | 0 | 0 | 1 |\n",
    "| **dog.**     | 0 | 0 | 0 | 0 | 0 | 1 |\n",
    "\n"
   ]
  },
  {
   "cell_type": "markdown",
   "metadata": {},
   "source": [
    "Define states as consecutive token pairs"
   ]
  },
  {
   "cell_type": "code",
   "execution_count": 15,
   "metadata": {},
   "outputs": [],
   "source": [
    "k = 2\n",
    "\n",
    "tokens = text.lower().split()\n",
    "states = [tuple(tokens[i : i + k]) for i in range(len(tokens) - k + 1)]\n",
    "distinct_states = list(set(states))"
   ]
  },
  {
   "cell_type": "markdown",
   "metadata": {},
   "source": [
    "Define and fill transition matrix"
   ]
  },
  {
   "cell_type": "code",
   "execution_count": null,
   "metadata": {},
   "outputs": [
    {
     "name": "stderr",
     "output_type": "stream",
     "text": [
      "/home/rhyme/.local/lib/python3.6/site-packages/scipy/sparse/_index.py:84: SparseEfficiencyWarning: Changing the sparsity structure of a csr_matrix is expensive. lil_matrix is more efficient.\n",
      "  self._set_intXint(row, col, x.flat[0])\n"
     ]
    }
   ],
   "source": [
    "m = csr_matrix((len(distinct_states), len(distinct_states)), dtype=int)\n",
    "\n",
    "state_index = dict([(state, idx) for idx, state in enumerate(distinct_states)])\n",
    "\n",
    "for i in range(len(tokens) - k):\n",
    "    state = tuple(tokens[i : i + k])\n",
    "    next_state = tuple(tokens[i + 1 : i + k + 1])\n",
    "    row = state_index[state]\n",
    "    col = state_index[next_state]\n",
    "    m[row, col] += 1"
   ]
  },
  {
   "cell_type": "markdown",
   "metadata": {},
   "source": [
    "Generate new text"
   ]
  },
  {
   "cell_type": "code",
   "execution_count": null,
   "metadata": {},
   "outputs": [],
   "source": [
    "import numpy as np\n",
    "\n",
    "start_state_index = np.random.randint(len(distinct_states))\n",
    "state = distinct_states[start_state_index]\n",
    "\n",
    "num_sentences = 0\n",
    "output = \" \".join(state).capitalize()\n",
    "capitalize = False\n",
    "\n",
    "while num_sentences < 3:\n",
    "    row = m[state_index[state], :]\n",
    "    probabilities = row / row.sum()\n",
    "    probabilities = probabilities.toarray()[0]\n",
    "\n",
    "    next_state_index = np.random.choice(len(distinct_states), 1, p=probabilities)\n",
    "    next_state = distinct_states[next_state_index[0]]\n",
    "\n",
    "    if next_state[-1] in (\".\", \"!\", \"?\"):\n",
    "        output += next_state[-1] + \"\\n\\n\"\n",
    "        capitalize = True\n",
    "        num_sentences += 1\n",
    "    elif next_state[-1] == \",\":\n",
    "        output += next_state[-1]\n",
    "    else:\n",
    "        if capitalize:\n",
    "            output += next_state[-1].capitalize()\n",
    "            capitalize = False\n",
    "        else:\n",
    "            output += \" \" + next_state[-1]\n",
    "\n",
    "    state = next_state\n",
    "\n",
    "print(output)"
   ]
  },
  {
   "cell_type": "code",
   "execution_count": null,
   "metadata": {},
   "outputs": [],
   "source": []
  }
 ],
 "metadata": {
  "kernelspec": {
   "display_name": "Python 3",
   "language": "python",
   "name": "python3"
  },
  "language_info": {
   "codemirror_mode": {
    "name": "ipython",
    "version": 3
   },
   "file_extension": ".py",
   "mimetype": "text/x-python",
   "name": "python",
   "nbconvert_exporter": "python",
   "pygments_lexer": "ipython3",
   "version": "3.6.9"
  }
 },
 "nbformat": 4,
 "nbformat_minor": 4
}
