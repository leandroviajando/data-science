{
 "cells": [
  {
   "cell_type": "markdown",
   "metadata": {
    "colab_type": "text",
    "id": "fRJS3PextsAQ"
   },
   "source": [
    "# [Avoid Overfitting Using Regularization in TensorFlow](https://www.coursera.org/learn/tensorflow-regularization-avoid-overfitting/)"
   ]
  },
  {
   "cell_type": "markdown",
   "metadata": {
    "colab_type": "text",
    "id": "fP3FhmNIuErd"
   },
   "source": [
    "## Importing the Data"
   ]
  },
  {
   "cell_type": "code",
   "execution_count": null,
   "metadata": {
    "colab": {
     "base_uri": "https://localhost:8080/",
     "height": 153
    },
    "colab_type": "code",
    "executionInfo": {
     "elapsed": 3661,
     "status": "ok",
     "timestamp": 1597773834077,
     "user": {
      "displayName": "Sk Golam Saroar",
      "photoUrl": "https://lh3.googleusercontent.com/a-/AOh14Ghr9p9wypMUycgNVXDkAu38VEGu6bGiX6rn6s82=s64",
      "userId": "18118541395647292368"
     },
     "user_tz": -360
    },
    "id": "o1z61tw4tj88",
    "outputId": "4aa3206e-83d0-49c5-c57b-434e5e86e39e"
   },
   "outputs": [],
   "source": [
    "from tensorflow.keras.datasets import fashion_mnist\n",
    "\n",
    "(X_train, y_train), (X_test, y_test) = fashion_mnist.load_data()"
   ]
  },
  {
   "cell_type": "code",
   "execution_count": null,
   "metadata": {
    "colab": {
     "base_uri": "https://localhost:8080/",
     "height": 51
    },
    "colab_type": "code",
    "executionInfo": {
     "elapsed": 3655,
     "status": "ok",
     "timestamp": 1597773834080,
     "user": {
      "displayName": "Sk Golam Saroar",
      "photoUrl": "https://lh3.googleusercontent.com/a-/AOh14Ghr9p9wypMUycgNVXDkAu38VEGu6bGiX6rn6s82=s64",
      "userId": "18118541395647292368"
     },
     "user_tz": -360
    },
    "id": "xIv83A8jtj9D",
    "outputId": "f41ade8f-8aa8-43c8-f3f5-1e0cfc838e8f"
   },
   "outputs": [],
   "source": [
    "X_train.shape, y_train.shape, X_test.shape, y_test.shape"
   ]
  },
  {
   "cell_type": "code",
   "execution_count": null,
   "metadata": {
    "colab": {
     "base_uri": "https://localhost:8080/",
     "height": 578
    },
    "colab_type": "code",
    "executionInfo": {
     "elapsed": 5175,
     "status": "ok",
     "timestamp": 1597773835603,
     "user": {
      "displayName": "Sk Golam Saroar",
      "photoUrl": "https://lh3.googleusercontent.com/a-/AOh14Ghr9p9wypMUycgNVXDkAu38VEGu6bGiX6rn6s82=s64",
      "userId": "18118541395647292368"
     },
     "user_tz": -360
    },
    "id": "8i5dTsVLtj9J",
    "outputId": "49d3bbc8-18f0-470b-86dc-9fa165582c7c"
   },
   "outputs": [],
   "source": [
    "import matplotlib.pyplot as plt\n",
    "\n",
    "%matplotlib inline\n",
    "\n",
    "plt.figure(figsize=(10, 10))\n",
    "for i in range(25):\n",
    "    plt.subplot(5, 5, i + 1)\n",
    "    plt.xticks([])\n",
    "    plt.yticks([])\n",
    "    plt.imshow(X_train[i], cmap=\"binary\")\n",
    "plt.show();"
   ]
  },
  {
   "cell_type": "markdown",
   "metadata": {
    "colab_type": "text",
    "id": "eeMoXwPytj9O"
   },
   "source": [
    "## Processing the Data\n",
    "Original Label: \\[5\\] is converted to -> One Hot Encoded Label: \\[0, 0, 0, 0, 0, 1, 0, 0, 0, 0\\]"
   ]
  },
  {
   "cell_type": "code",
   "execution_count": null,
   "metadata": {
    "colab": {
     "base_uri": "https://localhost:8080/",
     "height": 51
    },
    "colab_type": "code",
    "executionInfo": {
     "elapsed": 5174,
     "status": "ok",
     "timestamp": 1597773835605,
     "user": {
      "displayName": "Sk Golam Saroar",
      "photoUrl": "https://lh3.googleusercontent.com/a-/AOh14Ghr9p9wypMUycgNVXDkAu38VEGu6bGiX6rn6s82=s64",
      "userId": "18118541395647292368"
     },
     "user_tz": -360
    },
    "id": "gKUf40_ptj9P",
    "outputId": "a517c63a-8e64-4eee-d413-a11aae3f5547"
   },
   "outputs": [],
   "source": [
    "from tensorflow.keras.utils import to_categorical\n",
    "\n",
    "y_train = to_categorical(y_train)\n",
    "y_test = to_categorical(y_test)\n",
    "\n",
    "print(y_train.shape, y_test.shape)\n",
    "print(y_train[0])"
   ]
  },
  {
   "cell_type": "code",
   "execution_count": null,
   "metadata": {
    "colab": {},
    "colab_type": "code",
    "executionInfo": {
     "elapsed": 5172,
     "status": "ok",
     "timestamp": 1597773835606,
     "user": {
      "displayName": "Sk Golam Saroar",
      "photoUrl": "https://lh3.googleusercontent.com/a-/AOh14Ghr9p9wypMUycgNVXDkAu38VEGu6bGiX6rn6s82=s64",
      "userId": "18118541395647292368"
     },
     "user_tz": -360
    },
    "id": "vf3d2lMCtj9U"
   },
   "outputs": [],
   "source": [
    "import numpy as np\n",
    "\n",
    "X_train = np.reshape(X_train, (60000, 28 * 28))\n",
    "X_test = np.reshape(X_test, (10000, 28 * 28))\n",
    "\n",
    "X_train = X_train / 255.0\n",
    "X_test = X_test / 255.0"
   ]
  },
  {
   "cell_type": "markdown",
   "metadata": {
    "colab_type": "text",
    "id": "O7jX4Vtftj9a"
   },
   "source": [
    "## Regularization and Dropout\n",
    "\n",
    "![Neural Network](https://drive.google.com/uc?export=view&id=19SjGcllkJhjC7Wke0oOAh1MDP9PDVkjh)\n",
    "\n",
    "### Dropouts:\n",
    "\n",
    "![Dropouts](https://drive.google.com/uc?export=view&id=1wosW0UknJXB4DFyIjksCI2FkbJMgZq-0)"
   ]
  },
  {
   "cell_type": "markdown",
   "metadata": {
    "colab_type": "text",
    "id": "eDwREyEevRoD"
   },
   "source": [
    "### Creating the Experiment"
   ]
  },
  {
   "cell_type": "code",
   "execution_count": null,
   "metadata": {
    "colab": {},
    "colab_type": "code",
    "executionInfo": {
     "elapsed": 5170,
     "status": "ok",
     "timestamp": 1597773835607,
     "user": {
      "displayName": "Sk Golam Saroar",
      "photoUrl": "https://lh3.googleusercontent.com/a-/AOh14Ghr9p9wypMUycgNVXDkAu38VEGu6bGiX6rn6s82=s64",
      "userId": "18118541395647292368"
     },
     "user_tz": -360
    },
    "id": "RUCFZsoKtj9b"
   },
   "outputs": [],
   "source": [
    "from tensorflow.keras.models import Sequential\n",
    "from tensorflow.keras.layers import Dense, Dropout\n",
    "from tensorflow.keras.regularizers import l2\n",
    "\n",
    "nodes = 64\n",
    "\n",
    "\n",
    "def create_model(weight_reg=False, dropout_reg=False):\n",
    "    model = Sequential()\n",
    "\n",
    "    if weight_reg:\n",
    "        model.add(Dense(nodes, activation=\"relu\", input_shape=(784,), kernel_regularizer=l2(0.001)))\n",
    "        model.add(Dense(nodes, activation=\"relu\", kernel_regularizer=l2(0.001)))\n",
    "    else:\n",
    "        model.add(Dense(nodes, activation=\"relu\", input_shape=(784,)))\n",
    "        model.add(Dense(nodes, activation=\"relu\", input_shape=(784,)))\n",
    "\n",
    "    if dropout_reg:\n",
    "        model.add(Dropout(0.2))\n",
    "\n",
    "    model.add(Dense(10, activation=\"softmax\"))\n",
    "    model.compile(loss=\"categorical_crossentropy\", optimizer=\"adam\", metrics=[\"acc\"])\n",
    "    model.summary()\n",
    "\n",
    "    return model"
   ]
  },
  {
   "cell_type": "code",
   "execution_count": null,
   "metadata": {
    "colab": {},
    "colab_type": "code",
    "executionInfo": {
     "elapsed": 5169,
     "status": "ok",
     "timestamp": 1597773835608,
     "user": {
      "displayName": "Sk Golam Saroar",
      "photoUrl": "https://lh3.googleusercontent.com/a-/AOh14Ghr9p9wypMUycgNVXDkAu38VEGu6bGiX6rn6s82=s64",
      "userId": "18118541395647292368"
     },
     "user_tz": -360
    },
    "id": "l8Ea0hWYtj9h"
   },
   "outputs": [],
   "source": [
    "def show_acc(h, E):\n",
    "    plt.plot(range(E), h.history[\"acc\"], label=\"Training\")\n",
    "    plt.plot(range(E), h.history[\"val_acc\"], label=\"Validation\")\n",
    "    plt.ylim([0.7, 1.0])\n",
    "    plt.legend()\n",
    "    plt.show()"
   ]
  },
  {
   "cell_type": "code",
   "execution_count": null,
   "metadata": {
    "colab": {},
    "colab_type": "code",
    "executionInfo": {
     "elapsed": 5166,
     "status": "ok",
     "timestamp": 1597773835609,
     "user": {
      "displayName": "Sk Golam Saroar",
      "photoUrl": "https://lh3.googleusercontent.com/a-/AOh14Ghr9p9wypMUycgNVXDkAu38VEGu6bGiX6rn6s82=s64",
      "userId": "18118541395647292368"
     },
     "user_tz": -360
    },
    "id": "6Aa5iScQtj9n"
   },
   "outputs": [],
   "source": [
    "from tensorflow.keras.callbacks import LambdaCallback\n",
    "\n",
    "simple_log = LambdaCallback(on_epoch_end=lambda e, l: print(e, end=\".\"))\n",
    "\n",
    "\n",
    "def run_experiment(E=20, weight_reg=False, drop_reg=False):\n",
    "    m = create_model(weight_reg, drop_reg)\n",
    "    h = m.fit(X_train, y_train, epochs=E, validation_data=(X_test, y_test), callbacks=[simple_log], verbose=False)\n",
    "    show_acc(h, E)"
   ]
  },
  {
   "cell_type": "markdown",
   "metadata": {
    "colab_type": "text",
    "id": "MSFhqYF4tj9r"
   },
   "source": [
    "### Results"
   ]
  },
  {
   "cell_type": "code",
   "execution_count": null,
   "metadata": {
    "colab": {
     "base_uri": "https://localhost:8080/",
     "height": 524
    },
    "colab_type": "code",
    "executionInfo": {
     "elapsed": 62759,
     "status": "ok",
     "timestamp": 1597773893205,
     "user": {
      "displayName": "Sk Golam Saroar",
      "photoUrl": "https://lh3.googleusercontent.com/a-/AOh14Ghr9p9wypMUycgNVXDkAu38VEGu6bGiX6rn6s82=s64",
      "userId": "18118541395647292368"
     },
     "user_tz": -360
    },
    "id": "ZODt7G_Otj9r",
    "outputId": "7a2c3509-f95d-4b0e-825b-5c8afbe1e8d8"
   },
   "outputs": [],
   "source": [
    "run_experiment()"
   ]
  },
  {
   "cell_type": "code",
   "execution_count": null,
   "metadata": {
    "colab": {
     "base_uri": "https://localhost:8080/",
     "height": 558
    },
    "colab_type": "code",
    "executionInfo": {
     "elapsed": 132494,
     "status": "ok",
     "timestamp": 1597773962943,
     "user": {
      "displayName": "Sk Golam Saroar",
      "photoUrl": "https://lh3.googleusercontent.com/a-/AOh14Ghr9p9wypMUycgNVXDkAu38VEGu6bGiX6rn6s82=s64",
      "userId": "18118541395647292368"
     },
     "user_tz": -360
    },
    "id": "ON0T-Otwtj9v",
    "outputId": "820ae14a-ab35-449a-fffa-3338fa5d66c6"
   },
   "outputs": [],
   "source": [
    "run_experiment(weight_reg=True, drop_reg=True)"
   ]
  }
 ],
 "metadata": {
  "colab": {
   "name": "tf-avoid-overfitting-using-regularization.ipynb",
   "provenance": []
  },
  "kernelspec": {
   "display_name": "Python 3",
   "language": "python",
   "name": "python3"
  },
  "language_info": {
   "codemirror_mode": {
    "name": "ipython",
    "version": 3
   },
   "file_extension": ".py",
   "mimetype": "text/x-python",
   "name": "python",
   "nbconvert_exporter": "python",
   "pygments_lexer": "ipython3",
   "version": "3.10.12"
  }
 },
 "nbformat": 4,
 "nbformat_minor": 0
}
