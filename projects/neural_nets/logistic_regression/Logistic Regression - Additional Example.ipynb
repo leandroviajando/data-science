{
 "cells": [
  {
   "cell_type": "markdown",
   "metadata": {},
   "source": [
    "![Rhyme](https://rhyme.com/assets/img/logo-dark.png)\n",
    "\n",
    "# Deep Learning Fundamentals - Logistic Regression"
   ]
  },
  {
   "cell_type": "markdown",
   "metadata": {},
   "source": [
    "Download the data from UCI ML Repository. [Click here](https://archive.ics.uci.edu/ml/datasets/banknote+authentication) for bank note authentication dataset description."
   ]
  },
  {
   "cell_type": "code",
   "execution_count": 1,
   "metadata": {},
   "outputs": [
    {
     "data": {
      "text/plain": [
       "('banknote.csv', <http.client.HTTPMessage at 0x22182806438>)"
      ]
     },
     "execution_count": 1,
     "metadata": {},
     "output_type": "execute_result"
    }
   ],
   "source": [
    "import urllib.request\n",
    "\n",
    "urllib.request.urlretrieve(\n",
    "    \"https://archive.ics.uci.edu/ml/machine-learning-databases/00267/data_banknote_authentication.txt\", \"banknote.csv\"\n",
    ")"
   ]
  },
  {
   "cell_type": "markdown",
   "metadata": {},
   "source": [
    "Import libraries"
   ]
  },
  {
   "cell_type": "code",
   "execution_count": 2,
   "metadata": {},
   "outputs": [],
   "source": [
    "import numpy as np\n",
    "import pandas as pd\n",
    "import helpers.plt\n",
    "\n",
    "from logistic_regression import LogisticModel"
   ]
  },
  {
   "cell_type": "markdown",
   "metadata": {},
   "source": [
    "Import the downloaded data"
   ]
  },
  {
   "cell_type": "code",
   "execution_count": 3,
   "metadata": {},
   "outputs": [
    {
     "data": {
      "text/html": [
       "<div>\n",
       "<style scoped>\n",
       "    .dataframe tbody tr th:only-of-type {\n",
       "        vertical-align: middle;\n",
       "    }\n",
       "\n",
       "    .dataframe tbody tr th {\n",
       "        vertical-align: top;\n",
       "    }\n",
       "\n",
       "    .dataframe thead th {\n",
       "        text-align: right;\n",
       "    }\n",
       "</style>\n",
       "<table border=\"1\" class=\"dataframe\">\n",
       "  <thead>\n",
       "    <tr style=\"text-align: right;\">\n",
       "      <th></th>\n",
       "      <th>variance</th>\n",
       "      <th>skewness</th>\n",
       "      <th>curtosis</th>\n",
       "      <th>entropy</th>\n",
       "      <th>class</th>\n",
       "    </tr>\n",
       "  </thead>\n",
       "  <tbody>\n",
       "    <tr>\n",
       "      <th>0</th>\n",
       "      <td>3.62160</td>\n",
       "      <td>8.6661</td>\n",
       "      <td>-2.8073</td>\n",
       "      <td>-0.44699</td>\n",
       "      <td>0</td>\n",
       "    </tr>\n",
       "    <tr>\n",
       "      <th>1</th>\n",
       "      <td>4.54590</td>\n",
       "      <td>8.1674</td>\n",
       "      <td>-2.4586</td>\n",
       "      <td>-1.46210</td>\n",
       "      <td>0</td>\n",
       "    </tr>\n",
       "    <tr>\n",
       "      <th>2</th>\n",
       "      <td>3.86600</td>\n",
       "      <td>-2.6383</td>\n",
       "      <td>1.9242</td>\n",
       "      <td>0.10645</td>\n",
       "      <td>0</td>\n",
       "    </tr>\n",
       "    <tr>\n",
       "      <th>3</th>\n",
       "      <td>3.45660</td>\n",
       "      <td>9.5228</td>\n",
       "      <td>-4.0112</td>\n",
       "      <td>-3.59440</td>\n",
       "      <td>0</td>\n",
       "    </tr>\n",
       "    <tr>\n",
       "      <th>4</th>\n",
       "      <td>0.32924</td>\n",
       "      <td>-4.4552</td>\n",
       "      <td>4.5718</td>\n",
       "      <td>-0.98880</td>\n",
       "      <td>0</td>\n",
       "    </tr>\n",
       "  </tbody>\n",
       "</table>\n",
       "</div>"
      ],
      "text/plain": [
       "   variance  skewness  curtosis  entropy  class\n",
       "0   3.62160    8.6661   -2.8073 -0.44699      0\n",
       "1   4.54590    8.1674   -2.4586 -1.46210      0\n",
       "2   3.86600   -2.6383    1.9242  0.10645      0\n",
       "3   3.45660    9.5228   -4.0112 -3.59440      0\n",
       "4   0.32924   -4.4552    4.5718 -0.98880      0"
      ]
     },
     "execution_count": 3,
     "metadata": {},
     "output_type": "execute_result"
    }
   ],
   "source": [
    "df = pd.read_csv(\"banknote.csv\", names=[\"variance\", \"skewness\", \"curtosis\", \"entropy\", \"class\"])\n",
    "df.head()"
   ]
  },
  {
   "cell_type": "markdown",
   "metadata": {},
   "source": [
    "Extract features and labels as numpy arrays"
   ]
  },
  {
   "cell_type": "code",
   "execution_count": 4,
   "metadata": {},
   "outputs": [],
   "source": [
    "X = df.iloc[:, :-1].values\n",
    "Y = df.iloc[:, -1].values"
   ]
  },
  {
   "cell_type": "markdown",
   "metadata": {},
   "source": [
    "Shuffle and normalize data"
   ]
  },
  {
   "cell_type": "code",
   "execution_count": 5,
   "metadata": {},
   "outputs": [
    {
     "name": "stdout",
     "output_type": "stream",
     "text": [
      "Found 1372 total examples.\n"
     ]
    }
   ],
   "source": [
    "total_examples = X.shape[0]\n",
    "print(\"Found\", total_examples, \"total examples.\")\n",
    "\n",
    "# Shuffle dataset\n",
    "indices = np.random.randint(0, total_examples, total_examples)\n",
    "X = X[indices]\n",
    "Y = Y[indices]\n",
    "\n",
    "# Normalize data\n",
    "X = (X - np.mean(X, axis=0)) / np.std(X, axis=0)"
   ]
  },
  {
   "cell_type": "markdown",
   "metadata": {},
   "source": [
    "Split dataset into training and test sets"
   ]
  },
  {
   "cell_type": "code",
   "execution_count": 6,
   "metadata": {},
   "outputs": [],
   "source": [
    "X_train = X[:1000]\n",
    "Y_train = Y[:1000]\n",
    "X_test = X[1000:]\n",
    "Y_test = Y[1000:]"
   ]
  },
  {
   "cell_type": "markdown",
   "metadata": {},
   "source": [
    "Create a function to generate random mini batch. It should confirm to how the train function in the logistic model works. Therefore, it should accept `(X, Y, batch_size)` in that order and return `(X_batch, Y_batch)`."
   ]
  },
  {
   "cell_type": "code",
   "execution_count": 7,
   "metadata": {},
   "outputs": [],
   "source": [
    "def generate_batch(X, Y, batch_size):\n",
    "    num_total = X.shape[0]\n",
    "    X_batch = np.zeros((batch_size, 4))\n",
    "    Y_batch = np.zeros((batch_size, 1))\n",
    "    indices = np.random.randint(0, num_total, batch_size)\n",
    "\n",
    "    for i, index in enumerate(indices):\n",
    "        X_batch[i] = X[index]\n",
    "        Y_batch[i] = Y[index]\n",
    "\n",
    "    return X_batch, Y_batch"
   ]
  },
  {
   "cell_type": "markdown",
   "metadata": {},
   "source": [
    "Create a LogisticModel and evaluate the untrained model."
   ]
  },
  {
   "cell_type": "code",
   "execution_count": 8,
   "metadata": {},
   "outputs": [
    {
     "name": "stdout",
     "output_type": "stream",
     "text": [
      "=================================\n",
      "Number of features: 4\n",
      "Shape of weights: (4, 1)\n",
      "Shape of biases: (1, 1)\n",
      "=================================\n",
      "Initial values for W and b:\n",
      "W = [-1.5573450744721624, 3.536308436897788, -0.8947585321408554, 0.07428323312950197]\n",
      "b = 0.0\n",
      "Untrained model accuracy: 54.0\n"
     ]
    }
   ],
   "source": [
    "model = LogisticModel(num_features=4)\n",
    "model.summary()\n",
    "\n",
    "print(\"Initial values for W and b:\")\n",
    "print(\"W =\", list(np.squeeze(model.W)))\n",
    "print(\"b =\", np.squeeze(model.b))\n",
    "\n",
    "X, Y = generate_batch(X_test, Y_test, 100)\n",
    "acc, loss = model.evaluate(X, Y)\n",
    "print(\"Untrained model accuracy:\", 100 * acc)"
   ]
  },
  {
   "cell_type": "markdown",
   "metadata": {},
   "source": [
    "Train the model and evaluate accuracy again."
   ]
  },
  {
   "cell_type": "code",
   "execution_count": 9,
   "metadata": {},
   "outputs": [
    {
     "name": "stdout",
     "output_type": "stream",
     "text": [
      "Training..\n",
      "Iter: 0, Val Acc: 0.800, Val Loss: 0.647\n",
      "Iter: 1, Val Acc: 0.870, Val Loss: 0.337\n",
      "Iter: 2, Val Acc: 0.910, Val Loss: 0.200\n",
      "Iter: 3, Val Acc: 0.920, Val Loss: 0.147\n",
      "Iter: 4, Val Acc: 0.990, Val Loss: 0.087\n",
      "Iter: 5, Val Acc: 0.990, Val Loss: 0.078\n",
      "Iter: 6, Val Acc: 0.990, Val Loss: 0.056\n",
      "Iter: 7, Val Acc: 0.960, Val Loss: 0.069\n",
      "Iter: 8, Val Acc: 0.990, Val Loss: 0.056\n",
      "Iter: 9, Val Acc: 0.990, Val Loss: 0.041\n",
      "Training finished.\n",
      "Trained model accuracy: 99.0\n"
     ]
    }
   ],
   "source": [
    "model.train(\n",
    "    batch_size=100,\n",
    "    get_batch=generate_batch,\n",
    "    lr=10.0,\n",
    "    iterations=10,\n",
    "    X_train=X_train,\n",
    "    Y_train=Y_train,\n",
    "    X_test=X_test,\n",
    "    Y_test=Y_test,\n",
    ")\n",
    "\n",
    "X, Y = generate_batch(X_test, Y_test, 100)\n",
    "acc, loss = model.evaluate(X, Y)\n",
    "print(\"Trained model accuracy:\", 100 * acc)"
   ]
  },
  {
   "cell_type": "markdown",
   "metadata": {},
   "source": [
    "Plot the validation accuracy and loss during training."
   ]
  },
  {
   "cell_type": "code",
   "execution_count": 10,
   "metadata": {},
   "outputs": [
    {
     "data": {
      "image/png": "[encoded data removed]",
      "text/plain": [
       "<Figure size 864x288 with 2 Axes>"
      ]
     },
     "metadata": {
      "needs_background": "light"
     },
     "output_type": "display_data"
    }
   ],
   "source": [
    "helpers.plt.plot_metrics(model)"
   ]
  },
  {
   "cell_type": "code",
   "execution_count": 11,
   "metadata": {},
   "outputs": [
    {
     "name": "stdout",
     "output_type": "stream",
     "text": [
      "Learned values for W and b:\n",
      "W = [-5.019993835075628, -2.9419990910858713, -3.2240404363152435, 0.5316084496923404]\n",
      "b = -0.669637427736756\n"
     ]
    }
   ],
   "source": [
    "print(\"Learned values for W and b:\")\n",
    "print(\"W =\", list(np.squeeze(model.W)))\n",
    "print(\"b =\", np.squeeze(model.b))"
   ]
  }
 ],
 "metadata": {
  "kernelspec": {
   "display_name": "Python 3",
   "language": "python",
   "name": "python3"
  },
  "language_info": {
   "codemirror_mode": {
    "name": "ipython",
    "version": 3
   },
   "file_extension": ".py",
   "mimetype": "text/x-python",
   "name": "python",
   "nbconvert_exporter": "python",
   "pygments_lexer": "ipython3",
   "version": "3.7.0"
  }
 },
 "nbformat": 4,
 "nbformat_minor": 2
}
