{
 "cells": [
  {
   "cell_type": "markdown",
   "metadata": {},
   "source": [
    "![Rhyme](https://rhyme.com/assets/img/logo-dark.png)\n",
    "\n",
    "# [Deep Learning Fundamentals - Logistic Regression](https://www.coursera.org/learn/deep-learning-fundamentals-logistic-regression/)\n",
    "\n",
    "# Task 1: Introduction"
   ]
  },
  {
   "cell_type": "code",
   "execution_count": 1,
   "metadata": {},
   "outputs": [
    {
     "name": "stdout",
     "output_type": "stream",
     "text": [
      "Libraries imported\n"
     ]
    }
   ],
   "source": [
    "import random\n",
    "import numpy as np\n",
    "import warnings\n",
    "import helpers.plt, helpers.dataset\n",
    "from matplotlib import pyplot as plt\n",
    "\n",
    "%matplotlib inline\n",
    "warnings.filterwarnings(\"ignore\")\n",
    "\n",
    "print(\"Libraries imported\")"
   ]
  },
  {
   "cell_type": "markdown",
   "metadata": {},
   "source": [
    "# Task 2: Hyperparameters"
   ]
  },
  {
   "cell_type": "code",
   "execution_count": 2,
   "metadata": {
    "tags": [
     "parameters"
    ]
   },
   "outputs": [],
   "source": [
    "lr = 0.3\n",
    "batch_size = 300\n",
    "iterations = 40"
   ]
  },
  {
   "cell_type": "markdown",
   "metadata": {},
   "source": [
    "# Task 3: Dataset"
   ]
  },
  {
   "cell_type": "code",
   "execution_count": 3,
   "metadata": {},
   "outputs": [
    {
     "name": "stdout",
     "output_type": "stream",
     "text": [
      "Loading data..\n",
      "Done.\n"
     ]
    }
   ],
   "source": [
    "(X_train, y_train), (X_test, y_test) = helpers.dataset.get_data()"
   ]
  },
  {
   "cell_type": "code",
   "execution_count": 4,
   "metadata": {},
   "outputs": [
    {
     "name": "stdout",
     "output_type": "stream",
     "text": [
      "Shape of X_train: (12665, 28, 28)\n",
      "Shape of y_train: (12665,)\n",
      "Shape of X_test: (2115, 28, 28)\n",
      "Shape of y_test: (2115,)\n"
     ]
    }
   ],
   "source": [
    "print(\"Shape of X_train:\", X_train.shape)\n",
    "print(\"Shape of y_train:\", y_train.shape)\n",
    "print(\"Shape of X_test:\", X_test.shape)\n",
    "print(\"Shape of y_test:\", y_test.shape)"
   ]
  },
  {
   "cell_type": "code",
   "execution_count": 5,
   "metadata": {},
   "outputs": [
    {
     "data": {
      "image/png": "[encoded data removed]",
      "text/plain": [
       "<Figure size 432x288 with 1 Axes>"
      ]
     },
     "metadata": {},
     "output_type": "display_data"
    }
   ],
   "source": [
    "helpers.plt.show_example(X_train[0], y_train[0])"
   ]
  },
  {
   "cell_type": "code",
   "execution_count": 6,
   "metadata": {},
   "outputs": [
    {
     "data": {
      "image/png": "[encoded data removed]",
      "text/plain": [
       "<Figure size 432x288 with 1 Axes>"
      ]
     },
     "metadata": {},
     "output_type": "display_data"
    }
   ],
   "source": [
    "helpers.plt.show_example(X_train[-1], y_train[-1])"
   ]
  },
  {
   "cell_type": "markdown",
   "metadata": {},
   "source": [
    "# Task 4: A Mini Batch of Examples"
   ]
  },
  {
   "cell_type": "code",
   "execution_count": 7,
   "metadata": {},
   "outputs": [
    {
     "name": "stdout",
     "output_type": "stream",
     "text": [
      "X_batch shape (1, 784)\n"
     ]
    },
    {
     "data": {
      "image/png": "[encoded data removed]",
      "text/plain": [
       "<Figure size 432x288 with 1 Axes>"
      ]
     },
     "metadata": {},
     "output_type": "display_data"
    }
   ],
   "source": [
    "X_batch, y_batch = helpers.dataset.get_random_batch(X_train, y_train, 1)\n",
    "\n",
    "print(\"X_batch shape\", X_batch.shape)\n",
    "\n",
    "helpers.plt.show_example(X_batch[0], y_batch[0])"
   ]
  },
  {
   "cell_type": "code",
   "execution_count": 8,
   "metadata": {},
   "outputs": [
    {
     "data": {
      "image/png": "[encoded data removed]",
      "text/plain": [
       "<Figure size 576x288 with 10 Axes>"
      ]
     },
     "metadata": {},
     "output_type": "display_data"
    }
   ],
   "source": [
    "X_batch, y_batch = helpers.dataset.get_random_batch(X_train, y_train, 10)\n",
    "\n",
    "helpers.plt.show_ten_examples(X_batch, y_batch, y_batch)"
   ]
  },
  {
   "cell_type": "markdown",
   "metadata": {},
   "source": [
    "# Task 5: Create Model"
   ]
  },
  {
   "cell_type": "markdown",
   "metadata": {},
   "source": [
    "A logistic model is simply a multi variable linear equation which gives a binary output. The pixel values of our input images are going to be the input features - the independent variables that form the logistic regression equation. And the class label - either 0 or 1 in our case, is the output y."
   ]
  },
  {
   "cell_type": "markdown",
   "metadata": {},
   "source": [
    "\\begin{equation}\n",
    "z = b + w_1x_1 + w_2x_2 + ... + w_N * x_N\n",
    "\\end{equation}\n",
    "\n",
    "\\begin{equation}\n",
    "y = \\sigma(z)\n",
    "\\end{equation}\n",
    "\n",
    "To simplify, we can use vectorized represenation where X is the feature matrix and W is the weight matrix:\n",
    "\n",
    "\\begin{equation}\n",
    "y = \\sigma(W^T.X + b)\n",
    "\\end{equation}"
   ]
  },
  {
   "cell_type": "code",
   "execution_count": 9,
   "metadata": {},
   "outputs": [
    {
     "name": "stdout",
     "output_type": "stream",
     "text": [
      "=================================\n",
      "Number of features: 784\n",
      "Shape of weights: (784, 1)\n",
      "Shape of biases: (1, 1)\n",
      "=================================\n"
     ]
    }
   ],
   "source": [
    "class LogisticModel:\n",
    "    def __init__(self, num_features):\n",
    "        self.W = np.reshape(np.random.randn((num_features)), (num_features, 1))\n",
    "        self.b = np.zeros((1, 1))\n",
    "        self.num_features = num_features\n",
    "        self.losses = []\n",
    "        self.accuracies = []\n",
    "\n",
    "    def summary(self):\n",
    "        print(\"=================================\")\n",
    "        print(\"Number of features:\", self.num_features)\n",
    "        print(\"Shape of weights:\", self.W.shape)\n",
    "        print(\"Shape of biases:\", self.b.shape)\n",
    "        print(\"=================================\")\n",
    "\n",
    "\n",
    "model = LogisticModel(num_features=784)\n",
    "model.summary()"
   ]
  },
  {
   "cell_type": "markdown",
   "metadata": {},
   "source": [
    "# Task 5: Forward Pass"
   ]
  },
  {
   "cell_type": "markdown",
   "metadata": {},
   "source": [
    "For a single training example, the loss should be:\n",
    "\n",
    "\\begin{equation}\n",
    "L(y, \\hat{y}) = -(y * log(\\hat{y}) + (1 - y) * log(1 - \\hat{y}))\n",
    "\\end{equation}"
   ]
  },
  {
   "cell_type": "code",
   "execution_count": 10,
   "metadata": {},
   "outputs": [],
   "source": [
    "class LogisticModel(LogisticModel):\n",
    "    def _forward_pass(self, X, y=None):\n",
    "        batch_size = X.shape[0]\n",
    "        Z = X @ self.W + self.b\n",
    "        A = 1.0 / (1.0 + np.exp(-Z))\n",
    "        loss = float(1e6)\n",
    "        if y is not None:\n",
    "            loss = -1 * np.sum(y.T @ np.log(A) + np.matmul((1 - y).T, np.log(1 - A)))\n",
    "            loss /= batch_size\n",
    "        return A, loss"
   ]
  },
  {
   "cell_type": "markdown",
   "metadata": {},
   "source": [
    "# Task 6: Backward Pass"
   ]
  },
  {
   "cell_type": "code",
   "execution_count": 11,
   "metadata": {},
   "outputs": [],
   "source": [
    "class LogisticModel(LogisticModel):\n",
    "    def _backward_pass(self, A, X, y):\n",
    "        batch_size = X.shape[0]\n",
    "        dZ = A - y\n",
    "        dW = (X.T @ dZ) / batch_size\n",
    "        db = np.sum(dZ) / batch_size\n",
    "        return dW, db"
   ]
  },
  {
   "cell_type": "markdown",
   "metadata": {},
   "source": [
    "# Task 7: Update Parameters"
   ]
  },
  {
   "cell_type": "code",
   "execution_count": 12,
   "metadata": {},
   "outputs": [],
   "source": [
    "class LogisticModel(LogisticModel):\n",
    "    def _update_params(self, dW, db, lr):\n",
    "        self.W -= lr * dW\n",
    "        self.b -= lr * db"
   ]
  },
  {
   "cell_type": "markdown",
   "metadata": {},
   "source": [
    "# Task 8: Check Model Performance"
   ]
  },
  {
   "cell_type": "code",
   "execution_count": 13,
   "metadata": {},
   "outputs": [],
   "source": [
    "class LogisticModel(LogisticModel):\n",
    "    def predict(self, X, y=None):\n",
    "        A, loss = self._forward_pass(X, y)\n",
    "        y_hat = A > 0.5\n",
    "        return np.squeeze(y_hat), loss\n",
    "\n",
    "    def evaluate(self, X, y):\n",
    "        y_hat, loss = self.predict(X, y)\n",
    "        accuracy = np.sum(y_hat == np.squeeze(y)) / X.shape[0]\n",
    "        return accuracy, loss"
   ]
  },
  {
   "cell_type": "code",
   "execution_count": 14,
   "metadata": {},
   "outputs": [
    {
     "name": "stdout",
     "output_type": "stream",
     "text": [
      "=================================\n",
      "Number of features: 784\n",
      "Shape of weights: (784, 1)\n",
      "Shape of biases: (1, 1)\n",
      "=================================\n"
     ]
    }
   ],
   "source": [
    "model = LogisticModel(784)\n",
    "model.summary()"
   ]
  },
  {
   "cell_type": "code",
   "execution_count": 15,
   "metadata": {},
   "outputs": [
    {
     "data": {
      "text/plain": [
       "(0.55, 2.248886121741473)"
      ]
     },
     "execution_count": 15,
     "metadata": {},
     "output_type": "execute_result"
    }
   ],
   "source": [
    "X, y = helpers.dataset.get_random_batch(X_test, y_test, batch_size)\n",
    "acc, loss = model.evaluate(X, y)\n",
    "acc, loss"
   ]
  },
  {
   "cell_type": "code",
   "execution_count": 16,
   "metadata": {},
   "outputs": [
    {
     "data": {
      "image/png": "[encoded data removed]",
      "text/plain": [
       "<Figure size 576x288 with 10 Axes>"
      ]
     },
     "metadata": {},
     "output_type": "display_data"
    }
   ],
   "source": [
    "y_pred, _ = model.predict(X)\n",
    "helpers.plt.show_ten_examples(X, y, y_pred)"
   ]
  },
  {
   "cell_type": "markdown",
   "metadata": {},
   "source": [
    "# Task 9: Training Loop"
   ]
  },
  {
   "cell_type": "code",
   "execution_count": 17,
   "metadata": {},
   "outputs": [],
   "source": [
    "class LogisticModel(LogisticModel):\n",
    "    def train(self, batch_size, get_batch, lr, iterations, X_train, y_train, X_test, y_test):\n",
    "        print(\"Training...\")\n",
    "        self.accuracies = []\n",
    "        self.losses = []\n",
    "\n",
    "        for i in range(iterations):\n",
    "            X, y = get_batch(X_train, y_train, batch_size)\n",
    "            A, _ = self._forward_pass(X, y)\n",
    "            dW, db = self._backward_pass(A, X, y)\n",
    "            self._update_params(dW, db, lr)\n",
    "\n",
    "            X, y = get_batch(X_test, y_test, batch_size)\n",
    "            val_acc, val_loss = self.evaluate(X, y)\n",
    "            self.accuracies.append(val_acc)\n",
    "            self.losses.append(val_loss)\n",
    "\n",
    "            print(f\"Iter: {i}, Val Acc: {val_acc:.3f}, Val Loss: {val_loss:.3f}\")\n",
    "\n",
    "        print(\"Training finished.\")"
   ]
  },
  {
   "cell_type": "markdown",
   "metadata": {},
   "source": [
    "# Task 10: Training the Model"
   ]
  },
  {
   "cell_type": "code",
   "execution_count": 19,
   "metadata": {},
   "outputs": [
    {
     "name": "stdout",
     "output_type": "stream",
     "text": [
      "Before training performance: (0.39, 2.5425697433142527)\n",
      "Training...\n",
      "Iter: 0, Val Acc: 0.587, Val Loss: 1.389\n",
      "Iter: 1, Val Acc: 0.757, Val Loss: 1.027\n",
      "Iter: 2, Val Acc: 0.837, Val Loss: 0.527\n",
      "Iter: 3, Val Acc: 0.853, Val Loss: 0.453\n",
      "Iter: 4, Val Acc: 0.910, Val Loss: 0.313\n",
      "Iter: 5, Val Acc: 0.940, Val Loss: 0.196\n",
      "Iter: 6, Val Acc: 0.907, Val Loss: 0.317\n",
      "Iter: 7, Val Acc: 0.953, Val Loss: 0.173\n",
      "Iter: 8, Val Acc: 0.940, Val Loss: 0.229\n",
      "Iter: 9, Val Acc: 0.960, Val Loss: 0.166\n",
      "Iter: 10, Val Acc: 0.953, Val Loss: 0.158\n",
      "Iter: 11, Val Acc: 0.953, Val Loss: 0.124\n",
      "Iter: 12, Val Acc: 0.940, Val Loss: 0.170\n",
      "Iter: 13, Val Acc: 0.973, Val Loss: 0.079\n",
      "Iter: 14, Val Acc: 0.960, Val Loss: 0.126\n",
      "Iter: 15, Val Acc: 0.950, Val Loss: 0.112\n",
      "Iter: 16, Val Acc: 0.967, Val Loss: 0.116\n",
      "Iter: 17, Val Acc: 0.950, Val Loss: 0.183\n",
      "Iter: 18, Val Acc: 0.977, Val Loss: 0.059\n",
      "Iter: 19, Val Acc: 0.957, Val Loss: 0.148\n",
      "Iter: 20, Val Acc: 0.970, Val Loss: 0.108\n",
      "Iter: 21, Val Acc: 0.987, Val Loss: 0.038\n",
      "Iter: 22, Val Acc: 0.980, Val Loss: 0.064\n",
      "Iter: 23, Val Acc: 0.980, Val Loss: 0.053\n",
      "Iter: 24, Val Acc: 0.977, Val Loss: 0.078\n",
      "Iter: 25, Val Acc: 0.980, Val Loss: 0.082\n",
      "Iter: 26, Val Acc: 0.967, Val Loss: 0.105\n",
      "Iter: 27, Val Acc: 0.973, Val Loss: 0.068\n",
      "Iter: 28, Val Acc: 0.987, Val Loss: 0.026\n",
      "Iter: 29, Val Acc: 0.997, Val Loss: 0.026\n",
      "Iter: 30, Val Acc: 0.977, Val Loss: 0.052\n",
      "Iter: 31, Val Acc: 1.000, Val Loss: 0.012\n",
      "Iter: 32, Val Acc: 0.970, Val Loss: 0.085\n",
      "Iter: 33, Val Acc: 0.987, Val Loss: 0.052\n",
      "Iter: 34, Val Acc: 0.983, Val Loss: 0.088\n",
      "Iter: 35, Val Acc: 0.990, Val Loss: 0.045\n",
      "Iter: 36, Val Acc: 0.990, Val Loss: 0.032\n",
      "Iter: 37, Val Acc: 0.990, Val Loss: 0.039\n",
      "Iter: 38, Val Acc: 0.977, Val Loss: 0.045\n",
      "Iter: 39, Val Acc: 0.993, Val Loss: 0.019\n",
      "Training finished.\n",
      "After training performance: (0.9833333333333333, 0.04088202893117905)\n"
     ]
    }
   ],
   "source": [
    "model = LogisticModel(784)\n",
    "\n",
    "X, y = helpers.dataset.get_random_batch(X_test, y_test, batch_size)\n",
    "print(\"Before training performance:\", model.evaluate(X, y))\n",
    "\n",
    "model.train(\n",
    "    batch_size,\n",
    "    helpers.dataset.get_random_batch,\n",
    "    lr,\n",
    "    iterations,\n",
    "    X_train,\n",
    "    y_train,\n",
    "    X_test,\n",
    "    y_test,\n",
    ")\n",
    "print(\"After training performance:\", model.evaluate(X, y))"
   ]
  },
  {
   "cell_type": "markdown",
   "metadata": {},
   "source": [
    "# Task 11: Display the Results"
   ]
  },
  {
   "cell_type": "code",
   "execution_count": 20,
   "metadata": {},
   "outputs": [
    {
     "data": {
      "image/png": "[encoded data removed]",
      "text/plain": [
       "<Figure size 864x288 with 2 Axes>"
      ]
     },
     "metadata": {
      "needs_background": "light"
     },
     "output_type": "display_data"
    }
   ],
   "source": [
    "helpers.plt.plot_metrics(model)"
   ]
  },
  {
   "cell_type": "code",
   "execution_count": 21,
   "metadata": {},
   "outputs": [
    {
     "data": {
      "image/png": "[encoded data removed]",
      "text/plain": [
       "<Figure size 576x288 with 10 Axes>"
      ]
     },
     "metadata": {},
     "output_type": "display_data"
    }
   ],
   "source": [
    "y_pred, _ = model.predict(X, y)\n",
    "helpers.plt.show_ten_examples(X, y, y_pred)"
   ]
  }
 ],
 "metadata": {
  "kernelspec": {
   "display_name": "Python 3",
   "language": "python",
   "name": "python3"
  },
  "language_info": {
   "codemirror_mode": {
    "name": "ipython",
    "version": 3
   },
   "file_extension": ".py",
   "mimetype": "text/x-python",
   "name": "python",
   "nbconvert_exporter": "python",
   "pygments_lexer": "ipython3",
   "version": "3.7.0"
  }
 },
 "nbformat": 4,
 "nbformat_minor": 2
}
